{
 "cells": [
  {
   "cell_type": "code",
   "execution_count": null,
   "metadata": {},
   "outputs": [],
   "source": [
    "##Python_answer_6##\n",
    "import pandas as pd\n",
    "import numpy as np\n",
    "import plotly.express as px\n",
    "from ast import literal_eval"
   ]
  },
  {
   "cell_type": "code",
   "execution_count": null,
   "metadata": {},
   "outputs": [],
   "source": [
    "df=pd.read_excel('pokemongo.xlsx')"
   ]
  },
  {
   "cell_type": "code",
   "execution_count": null,
   "metadata": {},
   "outputs": [],
   "source": [
    "df"
   ]
  },
  {
   "cell_type": "code",
   "execution_count": null,
   "metadata": {},
   "outputs": [],
   "source": [
    "df.info()"
   ]
  },
  {
   "cell_type": "code",
   "execution_count": null,
   "metadata": {},
   "outputs": [],
   "source": [
    "############Get all Pokemons whose spawn rate is less than 5%########\n",
    "df1=df[df['spawn_chance_%']<5].groupby('spawn_chance_%')['name'].sum().reset_index()\n",
    "df1"
   ]
  },
  {
   "cell_type": "code",
   "execution_count": null,
   "metadata": {},
   "outputs": [],
   "source": [
    "######plot to show all Pokemons whose spawn rate is less than 5%######\n",
    "\n",
    "fig=px.scatter(df1,x='spawn_chance_%',y='name',color='spawn_chance_%')\n",
    "\n",
    "fig.show(\"notebook\")"
   ]
  },
  {
   "cell_type": "code",
   "execution_count": null,
   "metadata": {},
   "outputs": [],
   "source": [
    "for i in df['weaknesses']:\n",
    "    print(type(i))"
   ]
  },
  {
   "cell_type": "code",
   "execution_count": null,
   "metadata": {},
   "outputs": [],
   "source": [
    "#############Get all Pokemons that have less than 4 weaknesses###########\n",
    "weakness=[]\n",
    "for i in df['weaknesses']:\n",
    "    if type(i)!='float':\n",
    "        weakness.append(literal_eval(i))\n",
    "    else:\n",
    "        weakness.append('NaN')\n",
    "df['weaknesses']=weakness\n",
    "\n",
    "weak_4=[]\n",
    "for i in df['weaknesses']:\n",
    "    if len(i)<4:\n",
    "        weak_4.append(i)\n",
    "    else:\n",
    "        weak_4.append('nan')\n",
    "df['weak<4']=weak_4\n",
    "df2=df[df['weak<4']!='nan'].groupby('name')['weak<4'].sum().reset_index()\n",
    "df2"
   ]
  },
  {
   "cell_type": "code",
   "execution_count": null,
   "metadata": {},
   "outputs": [],
   "source": [
    "#############Get all Pokemons that have no multipliers at all#########\n",
    "df['multipliers']=df['multipliers'].fillna(value='None')\n",
    "df3=df[df['multipliers']=='None'].groupby('multipliers')['name'].unique().reset_index()\n",
    "df3"
   ]
  },
  {
   "cell_type": "code",
   "execution_count": null,
   "metadata": {},
   "outputs": [],
   "source": [
    "#####steps to follow to Get all Pokemons that do not have more than 2 evolutions\n",
    "df['prev_evolution']=df['prev_evolution'].replace(float('nan'),value='0')"
   ]
  },
  {
   "cell_type": "code",
   "execution_count": null,
   "metadata": {},
   "outputs": [],
   "source": [
    "#####steps to follow to Get all Pokemons that do not have more than 2 evolutions\n",
    "df['prev_evolution']=df['prev_evolution'].astype('str')"
   ]
  },
  {
   "cell_type": "code",
   "execution_count": null,
   "metadata": {},
   "outputs": [],
   "source": [
    "#####steps to follow to Get all Pokemons that do not have more than 2 evolutions\n",
    "prev_evol=[]\n",
    "for i in df['prev_evolution']:\n",
    "    if type(i)!='str' and len(i)>3:\n",
    "        prev_evol.append(literal_eval(i))\n",
    "    else:\n",
    "        prev_evol.append('NaN')\n",
    "df['prev_evolution']=prev_evol\n",
    "    "
   ]
  },
  {
   "cell_type": "code",
   "execution_count": null,
   "metadata": {},
   "outputs": [],
   "source": [
    "#####steps to follow to Get all Pokemons that do not have more than 2 evolutions\n",
    "df['next_evolution']=df['next_evolution'].replace(float('nan'),value='0')"
   ]
  },
  {
   "cell_type": "code",
   "execution_count": null,
   "metadata": {},
   "outputs": [],
   "source": [
    "#####steps to follow to Get all Pokemons that do not have more than 2 evolutions\n",
    "df['next_evolution']=df['next_evolution'].astype('str')"
   ]
  },
  {
   "cell_type": "code",
   "execution_count": null,
   "metadata": {},
   "outputs": [],
   "source": [
    "#####steps to follow to Get all Pokemons that do not have more than 2 evolutions\n",
    "next_evol=[]\n",
    "for i in df['next_evolution']:\n",
    "    if type(i)!='str' and len(i)>3:\n",
    "        next_evol.append(literal_eval(i))\n",
    "    else:\n",
    "        next_evol.append('NaN')\n",
    "df['next_evolution']=next_evol"
   ]
  },
  {
   "cell_type": "code",
   "execution_count": null,
   "metadata": {},
   "outputs": [],
   "source": [
    "#Get all Pokemons that do not have more than 2 evolutions\n",
    "###prev_evolution\n",
    "df4=df[df['prev_evolution']!='NaN'].groupby('name')['prev_evolution'].sum().reset_index()\n",
    "df4\n",
    "###next evolution\n",
    "df5=df[df['next_evolution']!='NaN'].groupby('name')['next_evolution'].sum().reset_index()\n",
    "df5"
   ]
  },
  {
   "cell_type": "code",
   "execution_count": null,
   "metadata": {},
   "outputs": [],
   "source": [
    "##plot to show Pokemons that do not have more than 2 evolutions\n",
    "## plot for prev_evolution\n",
    "df4['prev_evolution']=df4['prev_evolution'].astype('str')\n",
    "fig=px.scatter(df4,x='name',y='prev_evolution')\n",
    "\n",
    "fig.show(\"notebook\")\n",
    "\n",
    "##plot for next_evolution\n",
    "df5['next_evolution']=df5['next_evolution'].astype('str')\n",
    "fig=px.scatter(df5,x='name',y='next_evolution')\n",
    "\n",
    "fig.show(\"notebook\")\n",
    "\n"
   ]
  },
  {
   "cell_type": "code",
   "execution_count": null,
   "metadata": {},
   "outputs": [],
   "source": [
    "####Get all Pokemons whose spawn time is less than 300 seconds###\n",
    "time_sec=[]\n",
    "df['spawn_time']=df['spawn_time'].astype('str')\n",
    "for i in df['spawn_time']:\n",
    "    if i!='nan':\n",
    "        mins=int(i[0]+i[1])\n",
    "        secs=((mins*60)+(int(i[-2]+i[-1])))\n",
    "        time_sec.append(secs)\n",
    "    else:\n",
    "        time_sec.append('nan')\n",
    "df['spawn_time_secs']=time_sec\n",
    "df['spawn_time_secs']=df['spawn_time_secs'].astype('float64')\n",
    "df6=df[df['spawn_time_secs']<300].groupby(['spawn_time_secs','spawn_time'])['name'].sum().reset_index()\n",
    "df6"
   ]
  },
  {
   "cell_type": "code",
   "execution_count": null,
   "metadata": {},
   "outputs": [],
   "source": [
    "##plot to show all Pokemons whose spawn time is less than 300 seconds##\n",
    "fig=px.scatter(df6,x='name',y='spawn_time_secs',color='spawn_time_secs',hover_data=['spawn_time'])\n",
    "\n",
    "fig.show(\"notebook\")"
   ]
  },
  {
   "cell_type": "code",
   "execution_count": null,
   "metadata": {},
   "outputs": [],
   "source": [
    "#Get all Pokemon who have more than two types of capabilities\n",
    "type_2=[]\n",
    "for i  in df['type']:\n",
    "    if i!='str':\n",
    "        type_2.append(literal_eval(i))\n",
    "    else:\n",
    "        type_2.append('None')\n",
    "df['type>2']=type_2\n",
    "\n",
    "capability=[]\n",
    "for i in df['type>2']:\n",
    "    if len(i)>2:\n",
    "        capability.append(i)\n",
    "    else:\n",
    "        capability.append('None')\n",
    "df['capability>2']=capability\n",
    "\n",
    "df.groupby('name')['capability>2'].sum().reset_index()"
   ]
  }
 ],
 "metadata": {
  "kernelspec": {
   "display_name": "Python 3",
   "language": "python",
   "name": "python3"
  },
  "language_info": {
   "codemirror_mode": {
    "name": "ipython",
    "version": 3
   },
   "file_extension": ".py",
   "mimetype": "text/x-python",
   "name": "python",
   "nbconvert_exporter": "python",
   "pygments_lexer": "ipython3",
   "version": "3.8.5"
  }
 },
 "nbformat": 4,
 "nbformat_minor": 4
}
