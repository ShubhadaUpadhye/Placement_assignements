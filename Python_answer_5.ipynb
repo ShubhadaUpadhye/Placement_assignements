{
 "cells": [
  {
   "cell_type": "code",
   "execution_count": 16,
   "metadata": {},
   "outputs": [],
   "source": [
    "#######python_answer_5\n",
    "import pandas as pd\n",
    "import requests\n",
    "import json\n",
    "import time\n",
    "from bs4 import BeautifulSoup as bs"
   ]
  },
  {
   "cell_type": "code",
   "execution_count": 17,
   "metadata": {},
   "outputs": [],
   "source": [
    "##### downloading data and saving the same##########33\n",
    "def download_data(url):\n",
    "    response=requests.get('http://api.tvmaze.com/singlesearch/shows?q=westworld&embed=episodes')\n",
    "    with open('api_doc','wb') as file:\n",
    "        file.write(response.content)\n",
    "download_data('http://api.tvmaze.com/singlesearch/shows?q=westworld&embed=episodes')\n"
   ]
  },
  {
   "cell_type": "code",
   "execution_count": 18,
   "metadata": {},
   "outputs": [],
   "source": [
    "###extracting data from dictionary#############\n",
    "def fetch_data(filename):\n",
    "        with open(filename) as file:\n",
    "            api_data=json.load(file)\n",
    "        return api_data      \n",
    "api_dict=fetch_data('api_doc')\n",
    "result=api_dict['_embedded']['episodes']"
   ]
  },
  {
   "cell_type": "code",
   "execution_count": 25,
   "metadata": {},
   "outputs": [],
   "source": [
    "#### extracting data from one dictionary######\n",
    "idsl=[]\n",
    "urll=[]\n",
    "namel=[]\n",
    "seasonl=[]\n",
    "numberl=[]\n",
    "typesl=[]\n",
    "airtimel=[]\n",
    "airdatel=[]\n",
    "runtimel=[]\n",
    "ratingl=[]\n",
    "image_medl=[]\n",
    "image_originall=[]\n",
    "summaryl=[]\n",
    "def api_data_1():\n",
    "    ids=api_dict['id']\n",
    "    idsl.append(ids)\n",
    "    url=api_dict['url']\n",
    "    urll.append(url)\n",
    "    name=api_dict['name']\n",
    "    namel.append(name)\n",
    "    season='Nan'\n",
    "    seasonl.append(season)\n",
    "    number='Nan'\n",
    "    numberl.append(number)\n",
    "    types=api_dict['type']\n",
    "    typesl.append(types)\n",
    "    airtime=api_dict['schedule']['time']\n",
    "    airtimel.append(airtime)\n",
    "    airdate=api_dict['premiered']\n",
    "    airdatel.append(airdate)\n",
    "    runtime=api_dict['runtime']\n",
    "    runtimel.append(runtime)\n",
    "    rating=api_dict['rating']['average']\n",
    "    ratingl.append(rating)\n",
    "    image_med=api_dict['image']['medium']\n",
    "    image_medl.append(image_med)\n",
    "    image_original=api_dict['image']['original']\n",
    "    image_originall.append(image_original)\n",
    "    summary=api_dict['summary']\n",
    "    summaryl.append(summary)\n",
    "api_data_1()"
   ]
  },
  {
   "cell_type": "code",
   "execution_count": 26,
   "metadata": {},
   "outputs": [],
   "source": [
    "######### extracting data from remaining dictionaries#######\n",
    "idsl=[]\n",
    "urll=[]\n",
    "namel=[]\n",
    "seasonl=[]\n",
    "numberl=[]\n",
    "typesl=[]\n",
    "airtimel=[]\n",
    "airdatel=[]\n",
    "runtimel=[]\n",
    "ratingl=[]\n",
    "image_medl=[]\n",
    "image_originall=[]\n",
    "summaryl=[]\n",
    "def api_dict_all():\n",
    "    for i in range(len(result)):\n",
    "        ids=result[i]['id']\n",
    "        idsl.append(ids)\n",
    "        dict_id={'id':idsl}\n",
    "        url=result[i]['url']\n",
    "        urll.append(url)\n",
    "        name=result[i]['name']\n",
    "        namel.append(name)\n",
    "        season=result[i]['season']\n",
    "        seasonl.append(season)\n",
    "        number=result[i]['number']\n",
    "        numberl.append(number)\n",
    "        types=result[i]['type']\n",
    "        typesl.append(types)\n",
    "        airdate=result[i]['airdate']\n",
    "        airdatel.append(airdate)\n",
    "        airtime=result[i]['airtime']\n",
    "        airtimel.append(airtime)\n",
    "        runtime=result[i]['runtime']\n",
    "        runtimel.append(runtime)\n",
    "        rating=result[i]['rating']['average']\n",
    "        ratingl.append(rating)\n",
    "        image_med=result[i]['image']['medium']\n",
    "        image_medl.append(image_med)\n",
    "        image_original=result[i]['image']['original']\n",
    "        image_originall.append(image_original)\n",
    "        summary=result[i]['summary']\n",
    "        summaryl.append(summary)\n",
    "        \n",
    "api_dict_all()\n",
    "\n",
    "dict_id={'id':idsl}\n",
    "dict_url={'url':urll}\n",
    "dict_name={'name':namel}\n",
    "dict_season={'season':seasonl}\n",
    "dict_num={'number':numberl}\n",
    "dict_type={'type':typesl}\n",
    "dict_aird={'airdate':airdatel}\n",
    "dict_airt={'airtime':airtimel}\n",
    "dict_runt={'runtime':runtimel}\n",
    "dict_rat={'rating':ratingl}\n",
    "dict_imgm={'image_medium':image_medl}\n",
    "dict_imgo={'image_original':image_originall}\n",
    "dict_summ={'summary':summaryl}\n"
   ]
  },
  {
   "cell_type": "code",
   "execution_count": 27,
   "metadata": {},
   "outputs": [],
   "source": [
    "###########creating dataframes##############\n",
    "df1=pd.DataFrame(dict_id)\n",
    "df2=pd.DataFrame(dict_url)\n",
    "df3=pd.DataFrame(dict_name)\n",
    "df4=pd.DataFrame(dict_season)\n",
    "df5=pd.DataFrame(dict_num)\n",
    "df6=pd.DataFrame(dict_type)\n",
    "df7=pd.DataFrame(dict_aird)\n",
    "df8=pd.DataFrame(dict_airt)\n",
    "df9=pd.DataFrame(dict_imgm)\n",
    "df10=pd.DataFrame(dict_imgo)\n",
    "df11=pd.DataFrame(dict_rat)\n",
    "df12=pd.DataFrame(dict_runt)\n",
    "df13=pd.DataFrame(dict_summ)\n",
    "df=df1.join([df2,df3,df4,df5,df6,df7,df8,df9,df10,df11,df12,df13])\n",
    "###########df is the final dataframe created##########"
   ]
  },
  {
   "cell_type": "code",
   "execution_count": 23,
   "metadata": {},
   "outputs": [
    {
     "name": "stdout",
     "output_type": "stream",
     "text": [
      "<class 'pandas.core.frame.DataFrame'>\n",
      "RangeIndex: 37 entries, 0 to 36\n",
      "Data columns (total 14 columns):\n",
      " #   Column          Non-Null Count  Dtype         \n",
      "---  ------          --------------  -----         \n",
      " 0   id              37 non-null     int64         \n",
      " 1   url             37 non-null     object        \n",
      " 2   name            37 non-null     object        \n",
      " 3   season          37 non-null     object        \n",
      " 4   number          37 non-null     object        \n",
      " 5   type            37 non-null     object        \n",
      " 6   airdate         37 non-null     object        \n",
      " 7   airtime         37 non-null     datetime64[ns]\n",
      " 8   image_medium    37 non-null     object        \n",
      " 9   image_original  37 non-null     object        \n",
      " 10  rating          37 non-null     float64       \n",
      " 11  runtime         37 non-null     int64         \n",
      " 12  summary         37 non-null     object        \n",
      " 13  12_hour_time    37 non-null     object        \n",
      "dtypes: datetime64[ns](1), float64(1), int64(2), object(10)\n",
      "memory usage: 4.2+ KB\n"
     ]
    }
   ],
   "source": [
    "#########checking for information###########\n",
    "df.info()"
   ]
  },
  {
   "cell_type": "code",
   "execution_count": 28,
   "metadata": {},
   "outputs": [],
   "source": [
    "df['season']=df['season'].astype('int64')"
   ]
  },
  {
   "cell_type": "code",
   "execution_count": 29,
   "metadata": {},
   "outputs": [],
   "source": [
    "##converting runtime from int to float#####\n",
    "df['runtime']=df['runtime'].astype('float')"
   ]
  },
  {
   "cell_type": "code",
   "execution_count": 30,
   "metadata": {},
   "outputs": [],
   "source": [
    "######converting date from object to date format##########\n",
    "df['airdate']=pd.to_datetime(df['airdate'])"
   ]
  },
  {
   "cell_type": "code",
   "execution_count": 31,
   "metadata": {},
   "outputs": [],
   "source": [
    "#########3converting time from object to datetime and then converting the ssam eto 12_hour format#########\n",
    "for i in df['airtime']:\n",
    "    df['airtime']=df['airtime'].str.replace(i,i+':00')\n",
    "    break\n",
    "df['airtime']=pd.to_datetime(df['airtime'])\n",
    "df['12_hour_time'] = df['airtime'].apply(lambda x:x.strftime(\"%I:%M %p\"))"
   ]
  },
  {
   "cell_type": "code",
   "execution_count": 32,
   "metadata": {},
   "outputs": [],
   "source": [
    "##########removing p_tag from###########\n",
    "df['summary']=df['summary'].apply(lambda x:bs(x,'html.parser').get_text())"
   ]
  },
  {
   "cell_type": "code",
   "execution_count": 33,
   "metadata": {},
   "outputs": [],
   "source": [
    "######saving as csv file#####\n",
    "df.to_csv('tvmaze.csv')"
   ]
  }
 ],
 "metadata": {
  "kernelspec": {
   "display_name": "Python 3",
   "language": "python",
   "name": "python3"
  },
  "language_info": {
   "codemirror_mode": {
    "name": "ipython",
    "version": 3
   },
   "file_extension": ".py",
   "mimetype": "text/x-python",
   "name": "python",
   "nbconvert_exporter": "python",
   "pygments_lexer": "ipython3",
   "version": "3.8.5"
  }
 },
 "nbformat": 4,
 "nbformat_minor": 4
}
