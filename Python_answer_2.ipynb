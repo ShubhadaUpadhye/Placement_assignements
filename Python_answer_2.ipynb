{
 "cells": [
  {
   "cell_type": "code",
   "execution_count": null,
   "metadata": {},
   "outputs": [],
   "source": [
    "#####Python answer_2\n",
    "\n",
    "def char_freq(string):\n",
    "    count_list=[]\n",
    "    freq_list=[]\n",
    "    try:\n",
    "        string=string.lower()\n",
    "        print(\"the string entered by user is:\",string)\n",
    "###########adding the count of each letter in string to count_list##########\n",
    "        for i in range(len(string)):\n",
    "            count_list.append(string.count(string[i]))\n",
    "    except Exception as e:\n",
    "        print(e)\n",
    "###########checking count of every letter to check for similar count and if yes then adding to freq_list letters with same count\n",
    "    for i in range(len(string)):\n",
    "        try:\n",
    "            if count_list[0]==count_list[i]:\n",
    "                freq_list.append(count_list[i])\n",
    "        except Exception as e:\n",
    "            print(e)\n",
    "##########validating string#######\n",
    "    if len(count_list)==len(freq_list):\n",
    "        print(\"YES\")\n",
    "    else:\n",
    "        print(\"NO\")\n",
    "############checking for validation after editing string###########\n",
    "    def new_freq(string,char_index):\n",
    "        count_list=[]\n",
    "        freq_list=[]\n",
    "        new_string=string\n",
    "        try:\n",
    "#############removing of letter based on index entered by user###########\n",
    "            char_index=int(char_index)\n",
    "            print(\"the index value entered is:\",char_index)\n",
    "            new_string=string.replace(string[char_index],'',1)\n",
    "            print(\"the new string is:\",new_string)\n",
    "###########adding the count of each letter in string to count_list##########            \n",
    "            for i in range(len(new_string)):\n",
    "                count_list.append(new_string.count(new_string[i]))\n",
    "        except Exception as e:\n",
    "            print(\"string not edited,either enter correct index or validity is same as before\")\n",
    "            return (e)\n",
    "        try:\n",
    "###########checking count of every letter to check for similar count and if yes then adding to freq_list letters with same count\n",
    "            for i in range(len(new_string)):\n",
    "                if count_list[0]==count_list[i]:\n",
    "                    freq_list.append(count_list[i])\n",
    "        except Exception as e:\n",
    "            print(e)\n",
    "    ###############checking for validation of string##############\n",
    "        if len(count_list)==len(freq_list):\n",
    "            print(\"YES\")\n",
    "        else:\n",
    "            print(\"NO\")\n",
    "    new_freq((input(\"enter same string:\")),(input(\"enter index of char to be removed: \")))\n",
    "char_freq(input(\"enter string\"))"
   ]
  },
  {
   "cell_type": "code",
   "execution_count": null,
   "metadata": {},
   "outputs": [],
   "source": [
    "####test_case_1:\n",
    "char_freq('mississippi')\n",
    "##string input is 'mississippi'\n",
    "##output='NO'\n",
    "#here the above string is invalid as the frequency of occurances are not same for all the letters even after removal of any occurance at any index"
   ]
  },
  {
   "cell_type": "code",
   "execution_count": null,
   "metadata": {},
   "outputs": [],
   "source": [
    "#######test_case_2:\n",
    "char_freq('again')\n",
    "##string input is 'again'\n",
    "##output='YES'\n",
    "#Here the above string is valid after removal of occurance at index 0 or 3 that is letter 'a'"
   ]
  },
  {
   "cell_type": "code",
   "execution_count": null,
   "metadata": {},
   "outputs": [],
   "source": [
    "########test_case_3:\n",
    "char_freq('dial 12')\n",
    "##string input is 'dial_12'\n",
    "##output='YES'\n",
    "#Here the above string is valid as occurances remain same with or without removal of one occurance at any index"
   ]
  }
 ],
 "metadata": {
  "kernelspec": {
   "display_name": "Python 3",
   "language": "python",
   "name": "python3"
  },
  "language_info": {
   "codemirror_mode": {
    "name": "ipython",
    "version": 3
   },
   "file_extension": ".py",
   "mimetype": "text/x-python",
   "name": "python",
   "nbconvert_exporter": "python",
   "pygments_lexer": "ipython3",
   "version": "3.8.5"
  }
 },
 "nbformat": 4,
 "nbformat_minor": 4
}
