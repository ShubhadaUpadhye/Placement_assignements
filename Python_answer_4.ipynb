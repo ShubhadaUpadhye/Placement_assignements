{
 "cells": [
  {
   "cell_type": "code",
   "execution_count": null,
   "metadata": {},
   "outputs": [],
   "source": [
    "##python_answer_4\n",
    "import pandas as pd\n",
    "import json\n",
    "import requests\n",
    "from datetime import datetime as dt"
   ]
  },
  {
   "cell_type": "code",
   "execution_count": null,
   "metadata": {},
   "outputs": [],
   "source": [
    "#############downloading json data and saving the json file##############\n",
    "def js_data(url):\n",
    "    response=requests.get(url)\n",
    "    print(response)\n",
    "    filename='nasa.json'\n",
    "    with open(filename, \"wb\") as file:\n",
    "        file.write(response.content)\n",
    "js_data('https://data.nasa.gov/resource/y77d-th95.json')"
   ]
  },
  {
   "cell_type": "code",
   "execution_count": null,
   "metadata": {},
   "outputs": [],
   "source": [
    "#################readind and fetching json data from json file############\n",
    "def fetch(filename):\n",
    "    with open(filename,'r',encoding='utf-8') as file:\n",
    "        js_file=json.load(file)\n",
    "        return js_file\n",
    "nasa_data=fetch('nasa.json')"
   ]
  },
  {
   "cell_type": "code",
   "execution_count": null,
   "metadata": {},
   "outputs": [],
   "source": [
    "###### reading data###########\n",
    "nasa_data"
   ]
  },
  {
   "cell_type": "code",
   "execution_count": null,
   "metadata": {},
   "outputs": [],
   "source": [
    "############ extracting co_ordinates from the dictionary 'geolocation'#########\n",
    "coord_l=[]\n",
    "for i in range(len(nasa_data)):\n",
    "    if len(nasa_data[i])>7:\n",
    "        try:\n",
    "            c=nasa_data[i]['geolocation']['coordinates']\n",
    "        except Exception as e:\n",
    "            print(e)\n",
    "        else:\n",
    "            coord_l.append(c)\n",
    "    else:\n",
    "        coord_l.append(\"nan\")\n",
    "co_ord_dict={'co_ordinates':coord_l}\n",
    "#############creating dataframe for co_ordinates######################\n",
    "df1=pd.DataFrame(co_ord_dict)"
   ]
  },
  {
   "cell_type": "code",
   "execution_count": null,
   "metadata": {},
   "outputs": [],
   "source": [
    "##################creating dataframe of json nasa_data and getting columns############\n",
    "data=pd.DataFrame(nasa_data)\n",
    "df2=data[['name','id','nametype','recclass','mass','fall','year','reclat','reclong']]\n",
    "df=df2.join(df1)"
   ]
  },
  {
   "cell_type": "code",
   "execution_count": null,
   "metadata": {},
   "outputs": [],
   "source": [
    "df.info()"
   ]
  },
  {
   "cell_type": "code",
   "execution_count": null,
   "metadata": {},
   "outputs": [],
   "source": [
    "##################converting id,mass,reclat,reclong columns to int and float respectively############\n",
    "df['id']=df['id'].astype(\"int64\")\n",
    "df['mass']=df['mass'].astype('float')\n",
    "df['reclat']=df['reclat'].astype('float')\n",
    "df['reclong']=df['reclong'].astype('float')"
   ]
  },
  {
   "cell_type": "code",
   "execution_count": null,
   "metadata": {},
   "outputs": [],
   "source": [
    "#################### converting co_ordinates list of float to co_ordinates list of int##############3\n",
    "co_list=[]\n",
    "for i in df['co_ordinates']:\n",
    "    try:\n",
    "        if type(i)==list:\n",
    "            c_data=map(lambda x:int(x),i)\n",
    "            result=list(c_data)\n",
    "            co_list.append(result)\n",
    "        else:\n",
    "            co_list.append('nan')\n",
    "    except Exception as e:\n",
    "        print(e)\n",
    "else:\n",
    "    print(\"co_ordinates converted\")\n",
    "df['co_ordinates']=co_list"
   ]
  },
  {
   "cell_type": "code",
   "execution_count": null,
   "metadata": {},
   "outputs": [],
   "source": [
    "df['date']=pd.to_datetime(df['year'],errors=\"coerce\")\n",
    "df['year']=df['date'].dt.strftime('%Y')"
   ]
  },
  {
   "cell_type": "code",
   "execution_count": null,
   "metadata": {},
   "outputs": [],
   "source": [
    "df.to_csv(\"nasa.csv\",index=False)"
   ]
  }
 ],
 "metadata": {
  "kernelspec": {
   "display_name": "Python 3",
   "language": "python",
   "name": "python3"
  },
  "language_info": {
   "codemirror_mode": {
    "name": "ipython",
    "version": 3
   },
   "file_extension": ".py",
   "mimetype": "text/x-python",
   "name": "python",
   "nbconvert_exporter": "python",
   "pygments_lexer": "ipython3",
   "version": "3.8.5"
  }
 },
 "nbformat": 4,
 "nbformat_minor": 4
}
