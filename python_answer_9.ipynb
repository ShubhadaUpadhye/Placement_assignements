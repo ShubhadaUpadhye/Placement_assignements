{
 "cells": [
  {
   "cell_type": "code",
   "execution_count": null,
   "metadata": {},
   "outputs": [],
   "source": [
    "##Python_answer_9\n",
    "import pandas as pd\n",
    "import seaborn as sns\n",
    "import matplotlib.pyplot as plt\n",
    "import plotly.express as px\n",
    "import plotly.graph_objects as go\n",
    "\n",
    "import warnings\n",
    "\n",
    "warnings.filterwarnings(\"ignore\")\n",
    "\n",
    "\n",
    "%matplotlib inline"
   ]
  },
  {
   "cell_type": "code",
   "execution_count": null,
   "metadata": {},
   "outputs": [],
   "source": [
    "df=pd.read_csv('C:\\pythonIDE\\Placement_assignments\\Electric_Vehicle_Population_Data.csv')"
   ]
  },
  {
   "cell_type": "code",
   "execution_count": null,
   "metadata": {},
   "outputs": [],
   "source": [
    "df.info()"
   ]
  },
  {
   "cell_type": "code",
   "execution_count": null,
   "metadata": {},
   "outputs": [],
   "source": [
    "#### (1) Get all the cars and their types that do not qualify for clean alternative fuel vehicle\n",
    "df1=pd.DataFrame(df[df['Clean Alternative Fuel Vehicle (CAFV) Eligibility']=='Not eligible due to low battery range'].groupby(['Clean Alternative Fuel Vehicle (CAFV) Eligibility','Make'])['Electric Vehicle Type'].unique())\n",
    "df1"
   ]
  },
  {
   "cell_type": "code",
   "execution_count": null,
   "metadata": {
    "scrolled": true
   },
   "outputs": [],
   "source": [
    "#####plot to show all the cars and their types that do not qualify for clean alternative fuel vehicle ######\n",
    "df1=df[df['Clean Alternative Fuel Vehicle (CAFV) Eligibility']=='Not eligible due to low battery range'].groupby(['Clean Alternative Fuel Vehicle (CAFV) Eligibility','Make'])['Electric Vehicle Type'].unique().reset_index()\n",
    "fig = px.scatter(df1, x=\"Make\", y='Clean Alternative Fuel Vehicle (CAFV) Eligibility',color='Make',hover_data=['Electric Vehicle Type'],\n",
    "                title=\"Cars and their Types that do not qualify for Clean_Alternative_Fuel_Vehicle\")\n",
    "#fig.update_traces(marker_size=5)\n",
    "fig.show(\"notebook\")"
   ]
  },
  {
   "cell_type": "code",
   "execution_count": null,
   "metadata": {},
   "outputs": [],
   "source": [
    "###### (2)Get all TESLA cars with the model year, and model type made in Bothell City.\n",
    "df2=pd.DataFrame(df[(df['City']=='Bothell')&(df['Make']==\"TESLA\")].groupby(['City','Model Year','Model'])['Make'].unique())\n",
    "df3=df2.reset_index()\n",
    "df2"
   ]
  },
  {
   "cell_type": "code",
   "execution_count": null,
   "metadata": {},
   "outputs": [],
   "source": [
    "#####plot to show TESLA cars with the model year, and model type made in Bothell City.\n",
    "fig = px.scatter(df3, x=\"Model Year\", y='Model',color='Model',hover_data=['Make'],\n",
    "                title=\"TESLA cars with the Model Year, and Model Type made in Bothell City\")\n",
    "fig.update_traces(marker_size=8)\n",
    "fig.show(\"notebook\")"
   ]
  },
  {
   "cell_type": "code",
   "execution_count": null,
   "metadata": {},
   "outputs": [],
   "source": [
    "###Get all the cars that have an electric range of more than 100, and were made after 2015\n",
    "df4=df[(df['Electric Range']>100) & (df['Model Year']>2015)].groupby(['Model Year','Electric Range'])['Make'].unique()\n",
    "df5=df4.reset_index()"
   ]
  },
  {
   "cell_type": "code",
   "execution_count": null,
   "metadata": {},
   "outputs": [],
   "source": [
    "fig = px.scatter(df5, x='Model Year', y='Electric Range',hover_data=['Make'],\n",
    "                title=\"TESLA cars with the Model Year, and Model Type made in Bothell City\")\n",
    "fig.update_traces(marker_size=8)\n",
    "fig.show(\"notebook\")"
   ]
  },
  {
   "cell_type": "code",
   "execution_count": null,
   "metadata": {},
   "outputs": [],
   "source": [
    "#####Draw plots to show the distribution between city and electric vehicle type\n",
    "df_disrribution=df.groupby(['City','Electric Vehicle Type'])['2020 Census Tract'].sum().sort_values(ascending=True).reset_index()\n",
    "df_disrribution"
   ]
  },
  {
   "cell_type": "code",
   "execution_count": null,
   "metadata": {},
   "outputs": [],
   "source": [
    "##For better visualization the whole distribution plot is divided into 5 plots with different index_ranges\n",
    "\n",
    "#1)Distribution between City and Electric vehicle type for index_range(0:200)\n",
    "fig=px.histogram(df_disrribution.loc[0:200], x='City', y='2020 Census Tract',color='Electric Vehicle Type',\n",
    "                    title=\"Distribution between City and Electric vehicle type for index_range(0:200) \")\n",
    "fig.update_layout(xaxis_tickformat='0,10M')\n",
    "fig.show(\"notebook\")\n",
    "\n",
    "#2)Distribution between City and Electric vehicle type for index_range(200:400)\n",
    "fig=px.histogram(df_disrribution.loc[200:400], x='City', y='2020 Census Tract',color='Electric Vehicle Type',\n",
    "                    title=\"Distribution between City and Electric vehicle type for index_range(200:400)\")\n",
    "fig.update_layout(xaxis_tickformat='0,1000M')\n",
    "fig.show(\"notebook\")\n",
    "\n",
    "#3)Distribution between City and Electric vehicle type for index_range(400:600)\n",
    "fig=px.histogram(df_disrribution.loc[400:600], x='City', y='2020 Census Tract',color='Electric Vehicle Type',\n",
    "                    title=\"Distribution between City and Electric vehicle type for index_range(400:600)\")\n",
    "fig.update_layout(xaxis_tickformat='0,1000M')\n",
    "fig.show(\"notebook\")\n",
    "\n",
    "#4)Distribution between City and Electric vehicle type for index_range(600:800)\n",
    "fig=px.histogram(df_disrribution.loc[600:800], x='City', y='2020 Census Tract',color='Electric Vehicle Type',\n",
    "                    title=\"Distribution between City and Electric vehicle type for index_range(600:800)\")\n",
    "fig.update_layout(xaxis_tickformat='0,10000M')\n",
    "fig.show(\"notebook\")\n",
    "\n",
    "#5)Distribution between City and Electric vehicle type for index_range(800:1054)\n",
    "fig=px.histogram(df_disrribution.loc[800:1054], x='City', y='2020 Census Tract',color='Electric Vehicle Type',\n",
    "                    title=\"Distribution between City and Electric vehicle type for index_range(800:1054)\")\n",
    "fig.update_layout(xaxis_tickformat='0,10000M')\n",
    "fig.show(\"notebook\")\n",
    "\n"
   ]
  }
 ],
 "metadata": {
  "kernelspec": {
   "display_name": "Python 3",
   "language": "python",
   "name": "python3"
  },
  "language_info": {
   "codemirror_mode": {
    "name": "ipython",
    "version": 3
   },
   "file_extension": ".py",
   "mimetype": "text/x-python",
   "name": "python",
   "nbconvert_exporter": "python",
   "pygments_lexer": "ipython3",
   "version": "3.8.5"
  }
 },
 "nbformat": 4,
 "nbformat_minor": 4
}
