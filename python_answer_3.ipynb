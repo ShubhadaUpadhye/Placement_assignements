{
 "cells": [
  {
   "cell_type": "code",
   "execution_count": null,
   "metadata": {},
   "outputs": [],
   "source": [
    "######PYTHON-answer_3\n",
    "import pandas as pd\n",
    "import json\n",
    "import requests\n",
    "import numpy as np\n"
   ]
  },
  {
   "cell_type": "code",
   "execution_count": null,
   "metadata": {},
   "outputs": [],
   "source": [
    "###########getting url and downloading json data\n",
    "def js_data(url):\n",
    "    response=requests.get(url)\n",
    "    filename='data.json'\n",
    "    with open(filename, \"wb\") as file:\n",
    "        file.write(response.content)\n",
    "js_data('https://raw.githubusercontent.com/Biuni/PokemonGO-Pokedex/master/pokedex.json')"
   ]
  },
  {
   "cell_type": "code",
   "execution_count": null,
   "metadata": {},
   "outputs": [],
   "source": [
    "#################reading the downloaded json file and fetching data###########\n",
    "def fetch(filename):\n",
    "    with open(filename,'r') as file:\n",
    "        js_file=json.load(file)\n",
    "    for i in js_file:\n",
    "        result=js_file['pokemon']\n",
    "        return result\n",
    "data=fetch('data.json')"
   ]
  },
  {
   "cell_type": "code",
   "execution_count": null,
   "metadata": {},
   "outputs": [],
   "source": [
    "##############reading json_data####################\n",
    "data"
   ]
  },
  {
   "cell_type": "code",
   "execution_count": null,
   "metadata": {},
   "outputs": [],
   "source": [
    "############converting json_data into dataframe and getting column names###########\n",
    "df=pd.DataFrame(data)\n",
    "df.columns"
   ]
  },
  {
   "cell_type": "code",
   "execution_count": null,
   "metadata": {},
   "outputs": [],
   "source": [
    "############checking data_types of columns###########\n",
    "df.info()"
   ]
  },
  {
   "cell_type": "code",
   "execution_count": null,
   "metadata": {},
   "outputs": [],
   "source": [
    "#######################converting num to int64####################\n",
    "df['num']=df['num'].astype('int64')"
   ]
  },
  {
   "cell_type": "code",
   "execution_count": null,
   "metadata": {},
   "outputs": [],
   "source": [
    "##########getting percentage  of spawn_chance############\n",
    "df['spawn_chance_%']=df['spawn_chance'].apply((lambda x:x*100))"
   ]
  },
  {
   "cell_type": "code",
   "execution_count": null,
   "metadata": {},
   "outputs": [],
   "source": [
    "##########converting avg_spawn to int##############\n",
    "df['avg_spawns_new']=df['avg_spawns'].apply((lambda x:x/10))\n",
    "df['avg_spawns_new']=df['avg_spawns_new'].astype('int64')"
   ]
  },
  {
   "cell_type": "code",
   "execution_count": null,
   "metadata": {},
   "outputs": [],
   "source": [
    "###################convertig candy_count to int64 ###############\n",
    "df['candy_count']=df['candy_count'].replace(np.float64('nan'),value=0)\n",
    "df['candy_count']=df['candy_count'].astype('int64')"
   ]
  },
  {
   "cell_type": "code",
   "execution_count": null,
   "metadata": {},
   "outputs": [],
   "source": [
    "######converting height column into float###############\n",
    "for i in df['height']:\n",
    "    for j in i:\n",
    "        if j=='m':\n",
    "            df['height']=df['height'].str.replace(j,'')\n",
    "df['height']=df['height'].astype('float64')"
   ]
  },
  {
   "cell_type": "code",
   "execution_count": null,
   "metadata": {},
   "outputs": [],
   "source": [
    "#############converting weight column into float############\n",
    "for i in df['weight']:\n",
    "    for j in i:\n",
    "        if j=='k' or j=='g' or j=='kg':\n",
    "            df['weight']=df['weight'].str.replace(j,'')\n",
    "df['weight']=df['weight'].astype('float64')"
   ]
  },
  {
   "cell_type": "code",
   "execution_count": null,
   "metadata": {},
   "outputs": [],
   "source": [
    "###############converting egg column to float after replacing non-numerical values with numerical ###########\n",
    "for i in df['egg']:\n",
    "    for j in i:\n",
    "        if j=='k' or j=='m' or j=='km':\n",
    "            df['egg']=df['egg'].str.replace(j,'')\n",
    "            \n",
    "for i in df['egg']:\n",
    "    if i=='Not in Eggs':\n",
    "           df['egg']=df['egg'].str.replace(i,'Nan')\n",
    "    else:\n",
    "        if i=='Omanyte Candy' or i=='Oanyte Candy':\n",
    "            df['egg']=df['egg'].str.replace(i,'Nan')\n",
    "else:\n",
    "    df['egg']=df['egg'].astype('float64')\n"
   ]
  },
  {
   "cell_type": "code",
   "execution_count": null,
   "metadata": {},
   "outputs": [],
   "source": [
    "############################replacing na values in spawn_time column #############\n",
    "for i in df['spawn_time']:\n",
    "    if i=='N/A':\n",
    "        df['spawn_time']=df['spawn_time'].str.replace(i,'NaN')\n",
    "        \n",
    "################changing spawn_time format#################\n",
    "df['spawn_time_new']=pd.to_datetime(df['spawn_time'],format='%M:%S')"
   ]
  },
  {
   "cell_type": "code",
   "execution_count": null,
   "metadata": {},
   "outputs": [],
   "source": [
    "###############changing multipliers  list of floats to multipliers list to int###########\n",
    "df['multipliers']=df['multipliers'].fillna(value='nan')\n",
    "multi_l=[]\n",
    "for i in df['multipliers']:\n",
    "    try:\n",
    "        if type(i)==list:\n",
    "            multi_int=map(lambda x:int(x),i)\n",
    "            result=list(multi_int)\n",
    "            multi_l.append(result)\n",
    "        else:\n",
    "            multi_l.append('nan')\n",
    "    except Exception as e:\n",
    "        print(e)\n",
    "df['multipliers']=multi_l"
   ]
  },
  {
   "cell_type": "code",
   "execution_count": null,
   "metadata": {},
   "outputs": [],
   "source": [
    "df.to_excel('pokemongo.xlsx',index=False)"
   ]
  }
 ],
 "metadata": {
  "kernelspec": {
   "display_name": "Python 3",
   "language": "python",
   "name": "python3"
  },
  "language_info": {
   "codemirror_mode": {
    "name": "ipython",
    "version": 3
   },
   "file_extension": ".py",
   "mimetype": "text/x-python",
   "name": "python",
   "nbconvert_exporter": "python",
   "pygments_lexer": "ipython3",
   "version": "3.8.5"
  }
 },
 "nbformat": 4,
 "nbformat_minor": 4
}
