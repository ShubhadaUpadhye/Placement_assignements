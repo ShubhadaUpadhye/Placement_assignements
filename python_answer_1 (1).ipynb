{
 "cells": [
  {
   "cell_type": "code",
   "execution_count": null,
   "metadata": {},
   "outputs": [],
   "source": [
    "#############PYTHON-answer_1\n",
    "\n",
    "def frequency(string):\n",
    "    string_list=[]\n",
    "    length_list=[]\n",
    "    occurance_list=[]\n",
    "    count_list=[]\n",
    "    words_list=[]\n",
    "####### converting string to lower_case########\n",
    "    try:\n",
    "        string=string.replace(\",\",\" \")\n",
    "        string=string.lower()\n",
    "####### splitting string and creating list of same########\n",
    "        string_list=string.split()\n",
    "    except Exception as e:\n",
    "        print(e)\n",
    "############## finding frequency of every word in string_list and appending it to occurance_list###########\n",
    "    try:\n",
    "        for words in set(string_list):\n",
    "            occurances=string_list.count(words)\n",
    "            occurance_list.append(occurances)\n",
    "############## sorting occurance_list is descending_order to get highest occurance###############\n",
    "            occurance_list.sort(reverse=True)\n",
    "    except Exception as e:\n",
    "        print(e)\n",
    "################# find all the similar highest occurances and appending it to count_list ###########\n",
    "    try:\n",
    "        for occurances in range(len(occurance_list)):\n",
    "            if occurance_list[0]==occurance_list[occurances]:\n",
    "                count_list.append(occurance_list[occurances])\n",
    "    except Exception as e:\n",
    "        print(e)\n",
    "####################### finding the words with highest occurances and appending them to words_list ##############    \n",
    "    try: \n",
    "        for counts in count_list:\n",
    "            for words in set(string_list):\n",
    "                if counts==string_list.count(words):\n",
    "                    words_list.append(words)\n",
    "            break\n",
    "    except Exception as e:\n",
    "        print(e)\n",
    "    else:\n",
    "        print(\"The most frequent words are:\",words_list)\n",
    "######################### finding length of all highest occuring words ###################\n",
    "    try:\n",
    "        for words in words_list:\n",
    "            length_list.append(len(words))\n",
    "        print(\"the length of each word respectively is:\",length_list)\n",
    "        \n",
    "    except Exception as e:\n",
    "        print(e)\n",
    "    else:\n",
    "        length_list.sort(reverse=True)\n",
    "######################### extracting words with highest length and occurances###################\n",
    "    try:\n",
    "        for words in words_list:\n",
    "            if length_list[0]==len(words):\n",
    "                pass\n",
    "    except Exception as e:\n",
    "        print(e)\n",
    "    else:\n",
    "        print('{}'.format(words),\"is the most frequent word and\",'{}'.format(length_list[0]),\"is the corresponding highest length\")"
   ]
  },
  {
   "cell_type": "code",
   "execution_count": null,
   "metadata": {},
   "outputs": [],
   "source": [
    "### test case 1 #######\n",
    "frequency(input(\"enter input here:\"))\n",
    "string_is=\"Nory was a Catholic because her mother was a Catholic, and Nory's mother was a Catholic because her father was a Catholic, and her father was a Catholic because his mother was a Catholic, or had been\"\n",
    "\n",
    "#conclusion:From the given string we can note that most frequent words are 'a', 'Catholic', 'was' with same number of occurances and length of 'catholic' has highest length and the length is 8."
   ]
  },
  {
   "cell_type": "code",
   "execution_count": null,
   "metadata": {},
   "outputs": [],
   "source": [
    "#### test case 2 #####\n",
    "frequency(input(\"enter input here\"))\n",
    "string_is=\"Government of the people, by the people, and for the people, shall not perish from earth.\"\n",
    "\n",
    "#conclusion:from the given string we can note that most frequent words are 'the','people' with same number of occurances and length of people is 6."
   ]
  },
  {
   "cell_type": "code",
   "execution_count": null,
   "metadata": {},
   "outputs": [],
   "source": []
  }
 ],
 "metadata": {
  "kernelspec": {
   "display_name": "Python 3",
   "language": "python",
   "name": "python3"
  },
  "language_info": {
   "codemirror_mode": {
    "name": "ipython",
    "version": 3
   },
   "file_extension": ".py",
   "mimetype": "text/x-python",
   "name": "python",
   "nbconvert_exporter": "python",
   "pygments_lexer": "ipython3",
   "version": "3.8.5"
  }
 },
 "nbformat": 4,
 "nbformat_minor": 4
}
