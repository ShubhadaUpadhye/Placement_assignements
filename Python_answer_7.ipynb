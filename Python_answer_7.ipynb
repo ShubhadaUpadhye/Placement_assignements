{
 "cells": [
  {
   "cell_type": "code",
   "execution_count": null,
   "metadata": {},
   "outputs": [],
   "source": [
    "##python_answer_7\n",
    "import pandas as pd\n",
    "import seaborn as sns\n",
    "import matplotlib.pyplot as plt\n",
    "from datetime import datetime as dt\n",
    "import plotly.express as px\n",
    "import plotly.graph_objects as go\n",
    "import numpy as np\n",
    "\n",
    "import warnings\n",
    "\n",
    "warnings.filterwarnings(\"ignore\")\n",
    "\n",
    "\n",
    "%matplotlib inline"
   ]
  },
  {
   "cell_type": "code",
   "execution_count": null,
   "metadata": {},
   "outputs": [],
   "source": [
    "df=pd.read_csv('nasa.csv')"
   ]
  },
  {
   "cell_type": "code",
   "execution_count": null,
   "metadata": {},
   "outputs": [],
   "source": [
    "df.info()"
   ]
  },
  {
   "cell_type": "code",
   "execution_count": null,
   "metadata": {},
   "outputs": [],
   "source": [
    "df['date']=pd.to_datetime(df['date'])"
   ]
  },
  {
   "cell_type": "code",
   "execution_count": null,
   "metadata": {},
   "outputs": [],
   "source": [
    "df['year']=df['date'].dt.strftime('%Y')"
   ]
  },
  {
   "cell_type": "code",
   "execution_count": null,
   "metadata": {},
   "outputs": [],
   "source": [
    "######Get all the Earth meteorites that fell before the year 2000\n",
    "df1=df[df['year']<'2000'].groupby(['year','name'])['fall'].unique().reset_index().drop(df['fall'].loc[df['fall']=='Found'].index)\n",
    "df1"
   ]
  },
  {
   "cell_type": "code",
   "execution_count": null,
   "metadata": {},
   "outputs": [],
   "source": [
    "######Plot to show all the Earth meteorites that fell before the year '2000'###################\n",
    "fig = px.scatter(df1, x=\"name\", y=\"year\",color='year',\n",
    "                title=\"Earth meteorites that fell before the year 2000\")\n",
    "fig.update_traces(marker_size=5)\n",
    "fig.show(\"notebook\")"
   ]
  },
  {
   "cell_type": "code",
   "execution_count": null,
   "metadata": {},
   "outputs": [],
   "source": [
    "###############Get all the earth meteorites co-ordinates who fell before the year 1970\n",
    "df2=df[df['year']<'1970'].groupby(['year','name','co_ordinates',])['fall'].unique().reset_index()\n",
    "df2"
   ]
  },
  {
   "cell_type": "code",
   "execution_count": null,
   "metadata": {},
   "outputs": [],
   "source": [
    "######Plot to show all the earth meteorites co-ordinates who fell before the year '1970'###################\n",
    "fig = px.scatter(df2, x=\"name\", y=\"year\",color='co_ordinates',\n",
    "                title=\"Earth Meteorites co-ordinates that fell before the Year 1970\")\n",
    "fig.update_traces(marker_size=5)\n",
    "fig.show(\"notebook\")"
   ]
  },
  {
   "cell_type": "code",
   "execution_count": null,
   "metadata": {},
   "outputs": [],
   "source": [
    "###################Assuming that the mass of the earth meteorites was in kg, get all those whose mass was more than 10000kg\n",
    "df3=df[df['mass']>10000].groupby('mass')['name'].sum().reset_index()\n",
    "df3"
   ]
  },
  {
   "cell_type": "code",
   "execution_count": null,
   "metadata": {},
   "outputs": [],
   "source": [
    "####plot to show Mass of the Earth Meteorites whose mass was more than 10000kg######\n",
    "fig = px.scatter(df3, x=\"name\", y=\"mass\",color='mass',color_continuous_scale='Viridis_r',\n",
    "                title=\"Mass of the Earth Meteorites whose mass was more than 10000kg\")\n",
    "fig.update_traces(marker_size=5)\n",
    "fig.show(\"notebook\")"
   ]
  }
 ],
 "metadata": {
  "kernelspec": {
   "display_name": "Python 3",
   "language": "python",
   "name": "python3"
  },
  "language_info": {
   "codemirror_mode": {
    "name": "ipython",
    "version": 3
   },
   "file_extension": ".py",
   "mimetype": "text/x-python",
   "name": "python",
   "nbconvert_exporter": "python",
   "pygments_lexer": "ipython3",
   "version": "3.8.5"
  }
 },
 "nbformat": 4,
 "nbformat_minor": 4
}
