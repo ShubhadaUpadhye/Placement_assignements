{
 "cells": [
  {
   "cell_type": "code",
   "execution_count": null,
   "metadata": {},
   "outputs": [],
   "source": [
    "##pyhton_answer_10###\n",
    "\n",
    "import string\n",
    "import nltk\n",
    "#nltk.download('punkt')\n",
    "\n",
    "from nltk.corpus import stopwords\n",
    "\n",
    "from nltk.stem import PorterStemmer\n",
    "\n",
    "from nltk.stem import WordNetLemmatizer\n",
    "#nltk.download('wordnet')\n",
    "\n",
    "from bs4 import BeautifulSoup as bs\n",
    "import html"
   ]
  },
  {
   "cell_type": "code",
   "execution_count": null,
   "metadata": {},
   "outputs": [],
   "source": [
    "stopwords.words(\"english\")"
   ]
  },
  {
   "cell_type": "code",
   "execution_count": null,
   "metadata": {},
   "outputs": [],
   "source": [
    "####function to find parts of speech####\n",
    "def parts_of_speech(content):\n",
    "    \n",
    "    lem_words = []\n",
    "    \n",
    "    soup = bs(content, 'html.parser').text\n",
    "    text=html.unescape(soup)\n",
    "    text=text.lower()\n",
    "    text=text.expandtabs(0)\n",
    "    ####removing punctuations\n",
    "    text=text.translate(str.maketrans('', '', string.punctuation))\n",
    "    ####splitting words of phrase/para\n",
    "    token_words = nltk.word_tokenize(text)\n",
    "    #print(token_words)\n",
    "    \n",
    "    def lemmatize_words(token_words):\n",
    "        lm= WordNetLemmatizer()\n",
    "        for word in set(token_words):\n",
    "            lem_words.append(lm.lemmatize(word))\n",
    "        #print(lem_words)\n",
    "    lemmatize_words(token_words)\n",
    "    \n",
    "    pos_tags = nltk.pos_tag(lem_words)\n",
    "    #print(pos_tags)\n",
    "    \n",
    "    def get_post_tags(pos_tags):\n",
    "        sum_nouns=0\n",
    "        sum_verbs=0\n",
    "        sum_pronouns=0\n",
    "        sum_adjectives=0\n",
    "\n",
    "        for i in pos_tags:\n",
    "            try:\n",
    "                if type(i)==tuple:\n",
    "                    if i[1]=='NN' or i[1]=='NNS' or i[1]=='NNP' or i[1]=='NNPS':\n",
    "                        sum_nouns=sum_nouns+i.count(i[1])\n",
    "                    elif i[1]=='VB' or i[1]=='VBD' or i[1]=='VBG' or i[1]=='VBN' or i[1]=='VBP' or i[1]=='VBZ':\n",
    "                        sum_verbs=sum_verbs+i.count(i[1])\n",
    "                    elif i[1]=='JJ' or i[1]=='JJR' or i[1]=='JJS':\n",
    "                        sum_adjectives=sum_adjectives+i.count(i[1])\n",
    "                    else:\n",
    "                        if i[1]=='WP' or i[1]=='PRP$' or i[1]=='PRP' or i[1]=='WP$':\n",
    "                            sum_pronouns=sum_pronouns+i.count(i[1])\n",
    "            except Exception as e:\n",
    "                print(e)\n",
    "        \n",
    "        dict_pos={\n",
    "                  'nouns':sum_nouns,\n",
    "                  'verbs':sum_verbs,\n",
    "                  'adjectives':sum_adjectives,\n",
    "                  'pronouns':sum_pronouns\n",
    "                 }\n",
    "        \n",
    "        print(dict_pos)\n",
    "        dict_pos.clear()\n",
    "    get_post_tags(pos_tags)\n",
    "    "
   ]
  },
  {
   "cell_type": "code",
   "execution_count": null,
   "metadata": {},
   "outputs": [],
   "source": [
    "## test case_1\n",
    "parts_of_speech(input(\"enter text here:\"))    \n",
    "input_text='''The color of animals is by no means a matter of chance; it depends on many considerations, but in the majority of \n",
    "        cases tends to protect the animal from danger by rendering it less conspicuous. Perhaps it may be said that if\n",
    "        coloring is mainly protective, there ought to be but few brightly colored animals. There are, however,\n",
    "        not a few cases in which vivid colors are themselves protective. The kingfisher itself, though so brightly colored,\n",
    "        is by no means easy to see. The blue harmonizes with the water, and the bird as it darts along the stream looks almost like a\\n \n",
    "        flash of sunlight.Desert animals are generally the color of the desert. Thus, for instance, the lion, the antelope,\n",
    "        and the wild donkey are all sand-colored. “Indeed,” says Canon Tristram, “in the desert, where neither trees,\n",
    "        brushwood, nor even undulation of the surface afford the slightest protection to its foes, a modification of \n",
    "        color assimilated to that of the surrounding country is absolutely necessary. Hence, without exception,\n",
    "        the upper plumage of every bird, and also the fur of all the smaller mammals and the skin of all the snakes\n",
    "        and lizards, is of one uniform sand color.”'''\n"
   ]
  },
  {
   "cell_type": "code",
   "execution_count": null,
   "metadata": {},
   "outputs": [],
   "source": [
    "##test case _2\n",
    "parts_of_speech(input(\"enter text here:\")) \n",
    "input_text='''\"hello sir\\r<br>I am going to apply for junior data scientist position.\\r<br>so by reading the description can you suggest me what sorts of project should I need to do.',\n",
    " 'Hello Sir, please reduce the course for one neuron or please give more year validity in one neuron, when we pay 25000 for one neuron, then the validity of 2 year is not worth for money. please help sir',\n",
    " 'Sir so if we want to create a mini drone which is powered with AI then what technologies we have to use like machine learning, Deep learning, etc. And If we have to use more then 1 technology then what will be the order.',\n",
    " 'Sir next video kab ayegi,😢',\n",
    " 'waiting for next video',\"'''"
   ]
  }
 ],
 "metadata": {
  "kernelspec": {
   "display_name": "Python 3",
   "language": "python",
   "name": "python3"
  },
  "language_info": {
   "codemirror_mode": {
    "name": "ipython",
    "version": 3
   },
   "file_extension": ".py",
   "mimetype": "text/x-python",
   "name": "python",
   "nbconvert_exporter": "python",
   "pygments_lexer": "ipython3",
   "version": "3.8.5"
  }
 },
 "nbformat": 4,
 "nbformat_minor": 4
}
