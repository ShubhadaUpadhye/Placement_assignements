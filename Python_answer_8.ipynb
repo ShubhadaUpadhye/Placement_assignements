{
 "cells": [
  {
   "cell_type": "code",
   "execution_count": null,
   "metadata": {},
   "outputs": [],
   "source": [
    "##python_answer_8\n",
    "import pandas as pd\n",
    "import seaborn as sns\n",
    "import matplotlib.pyplot as plt\n",
    "import plotly.express as px\n",
    "\n",
    "import warnings\n",
    "\n",
    "warnings.filterwarnings(\"ignore\")\n",
    "\n",
    "\n",
    "%matplotlib inline"
   ]
  },
  {
   "cell_type": "code",
   "execution_count": null,
   "metadata": {},
   "outputs": [],
   "source": [
    "df=pd.read_csv('tvmaze.csv')\n",
    "df.drop('Unnamed: 0',axis=1,inplace=True)"
   ]
  },
  {
   "cell_type": "code",
   "execution_count": null,
   "metadata": {},
   "outputs": [],
   "source": [
    "df.info()"
   ]
  },
  {
   "cell_type": "code",
   "execution_count": null,
   "metadata": {},
   "outputs": [],
   "source": [
    "######Get all the overall ratings for each season and using plots compare the ratings for all the seasons, like season 1 ratings, season 2, and so on.\n",
    "df_rating=df.groupby('season')['rating'].mean().reset_index()\n",
    "df_rating"
   ]
  },
  {
   "cell_type": "code",
   "execution_count": null,
   "metadata": {},
   "outputs": [],
   "source": [
    "############plot to show season v/s overall rating################\n",
    "df_rating['season']=df_rating['season'].astype(str)\n",
    "fig = px.scatter(df_rating, x=\"season\", y=\"rating\", color=\"season\",symbol='season',\n",
    "            title=\"Overall Ratings for each Season\")\n",
    "fig.update_traces(marker_size=15)\n",
    "fig.show(\"notebook\")"
   ]
  },
  {
   "cell_type": "code",
   "execution_count": null,
   "metadata": {},
   "outputs": [],
   "source": [
    "#Get all the episode names, whose average rating is more than 8 for every season\n",
    "df2=df[df['rating']>8].groupby(['name','rating'])['season'].sum().reset_index()\n",
    "df2"
   ]
  },
  {
   "cell_type": "code",
   "execution_count": null,
   "metadata": {},
   "outputs": [],
   "source": [
    "######plot to show episode names, whose average rating is more than 8 for every season\n",
    "df2['season']=df2['season'].astype(str)\n",
    "fig = px.scatter(df2, x=\"name\", y=\"rating\", color=\"season\",symbol='season',\n",
    "            title=\"Episode Names, whose average rating is more than '8' for every season\")\n",
    "fig.update_traces(marker_size=15)\n",
    "fig.show(\"notebook\")\n"
   ]
  },
  {
   "cell_type": "code",
   "execution_count": null,
   "metadata": {},
   "outputs": [],
   "source": [
    "#####Get all the episode names that aired before May 2019\n",
    "df3=df[df['airdate']<'2019-05-01'].groupby(['airdate','season'])['name'].sum().reset_index()\n",
    "df3"
   ]
  },
  {
   "cell_type": "code",
   "execution_count": null,
   "metadata": {},
   "outputs": [],
   "source": [
    "#######3plot to show All the Episodes that aired before May 2019\n",
    "df3['season']=df3['season'].astype(str)\n",
    "fig = px.scatter(df3, x=\"airdate\", y=\"name\", color=\"season\",symbol='season',\n",
    "                title=\"All the Episodes that aired before May 2019\")\n",
    "fig.update_traces(marker_size=15)\n",
    "fig.show(notebook)"
   ]
  },
  {
   "cell_type": "code",
   "execution_count": null,
   "metadata": {
    "scrolled": true
   },
   "outputs": [],
   "source": [
    "##Get the episode name from each season with the highest and lowest rating\n",
    "df_min=df.groupby(['season','name'])['rating'].aggregate(['min']).sort_values('min',ascending=True).reset_index().drop_duplicates(subset=['season'],keep='first')\n",
    "df_max=df.groupby(['name', 'season'])['rating'].aggregate(['max']).sort_values('max',ascending=False).reset_index().drop_duplicates(subset=['season'],keep='first')\n",
    "df1=pd.merge(df_min,df_max,on='season',suffixes=('_min','_max'))\n",
    "df4=df1.sort_values('season').reset_index().drop('index',axis=1)\n",
    "df4"
   ]
  },
  {
   "cell_type": "code",
   "execution_count": null,
   "metadata": {},
   "outputs": [],
   "source": [
    "##plots to show episode name from each season with the highest and lowest rating\n",
    "##plot to show Lowest rating\n",
    "df4['season']=df4['season'].astype(str)\n",
    "\n",
    "fig = px.scatter(df4, x=\"name_min\", y=\"min\", color=\"season\",symbol='season',\n",
    "                title=\"Episodes from each Season with Lowest Rating\")\n",
    "fig.update_traces(marker_size=15)\n",
    "fig.show()\n",
    "\n",
    "###plot for highest rating\n",
    "fig = px.scatter(df4, x=\"name_max\", y=\"max\", color=\"season\",symbol='season',\n",
    "                title=\"Episodes from each Season with Highest Rating\")\n",
    "fig.update_traces(marker_size=15)\n",
    "fig.show(\"notebook\")\n"
   ]
  },
  {
   "cell_type": "code",
   "execution_count": null,
   "metadata": {},
   "outputs": [],
   "source": [
    "###Get the summary for the most popular ( ratings ) episode in every season\n",
    "df_summary=df.groupby(['name', 'season','number','summary'])['rating'].aggregate(['max']).sort_values('max',ascending=False).reset_index().drop_duplicates(subset=['season'],keep='first')\n",
    "df_summary.reset_index().drop('index',axis=1)"
   ]
  },
  {
   "cell_type": "code",
   "execution_count": null,
   "metadata": {},
   "outputs": [],
   "source": [
    "#########Plot to show summary for the most popular ( ratings ) episode in every season#####3\n",
    "df_summary['season']=df_summary['season'].astype(str)\n",
    "fig = px.scatter(df_summary, x=\"name\", y=\"max\", color=\"season\",hover_data=['season','number','name','max','summary'],\n",
    "                    symbol='season',title=\"Summary of Episodes from each Season with Highest rating\")\n",
    "fig.update_traces(marker_size=15)\n",
    "fig.show(\"notebook\")"
   ]
  }
 ],
 "metadata": {
  "kernelspec": {
   "display_name": "Python 3",
   "language": "python",
   "name": "python3"
  },
  "language_info": {
   "codemirror_mode": {
    "name": "ipython",
    "version": 3
   },
   "file_extension": ".py",
   "mimetype": "text/x-python",
   "name": "python",
   "nbconvert_exporter": "python",
   "pygments_lexer": "ipython3",
   "version": "3.8.5"
  }
 },
 "nbformat": 4,
 "nbformat_minor": 4
}
